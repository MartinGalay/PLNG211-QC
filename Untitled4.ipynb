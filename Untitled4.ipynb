{
  "nbformat": 4,
  "nbformat_minor": 0,
  "metadata": {
    "colab": {
      "provenance": [],
      "authorship_tag": "ABX9TyOp1GzWYajorcAbGuMdauSk",
      "include_colab_link": true
    },
    "kernelspec": {
      "name": "python3",
      "display_name": "Python 3"
    },
    "language_info": {
      "name": "python"
    }
  },
  "cells": [
    {
      "cell_type": "markdown",
      "metadata": {
        "id": "view-in-github",
        "colab_type": "text"
      },
      "source": [
        "<a href=\"https://colab.research.google.com/github/MartinGalay/PLNG211-QC/blob/main/Untitled4.ipynb\" target=\"_parent\"><img src=\"https://colab.research.google.com/assets/colab-badge.svg\" alt=\"Open In Colab\"/></a>"
      ]
    },
    {
      "cell_type": "code",
      "execution_count": 1,
      "metadata": {
        "colab": {
          "base_uri": "https://localhost:8080/"
        },
        "id": "EXSUzxIpNsIy",
        "outputId": "64b38665-642b-4b89-f726-1756bd717b8e"
      },
      "outputs": [
        {
          "output_type": "stream",
          "name": "stdout",
          "text": [
            "The list of animals in an array are ['cat', 'dog', 'fish']\n",
            "The animal in animals [0] is: cat\n"
          ]
        }
      ],
      "source": [
        "animals = ['cat', 'dog', 'fish']\n",
        "x = animals[0]\t\n",
        "print(\"The list of animals in an array are\", animals)\n",
        "print(\"The animal in animals [0] is:\" ,x)\n"
      ]
    },
    {
      "cell_type": "code",
      "source": [
        "animals = ['cat', 'dog', 'fish']\n",
        "animals[1] = 'monkey'\n",
        "print(animals)\n"
      ],
      "metadata": {
        "colab": {
          "base_uri": "https://localhost:8080/"
        },
        "id": "sQdajrIfN3qp",
        "outputId": "0765ae46-5957-4f03-eeb6-edee7eaaa070"
      },
      "execution_count": 3,
      "outputs": [
        {
          "output_type": "stream",
          "name": "stdout",
          "text": [
            "['cat', 'monkey', 'fish']\n"
          ]
        }
      ]
    },
    {
      "cell_type": "code",
      "source": [
        "animals = ['cat', 'dog', 'fish']\n",
        "x = len(animals)\n",
        "print(x)\n"
      ],
      "metadata": {
        "colab": {
          "base_uri": "https://localhost:8080/"
        },
        "id": "9dRnDg_eN6Gq",
        "outputId": "d210c2c1-1527-4ef0-c7f2-5c0d53cb1a24"
      },
      "execution_count": 4,
      "outputs": [
        {
          "output_type": "stream",
          "name": "stdout",
          "text": [
            "3\n"
          ]
        }
      ]
    },
    {
      "cell_type": "code",
      "source": [
        "verbs = ['jumping', 'eating', 'swimming']\n",
        "animals = ['cat', 'dog', 'fish']\n",
        "for k in verbs:\n",
        " for j in animals:\n",
        "   print(k,j)\n"
      ],
      "metadata": {
        "colab": {
          "base_uri": "https://localhost:8080/"
        },
        "id": "VXed1IjGN8_B",
        "outputId": "b23b758a-fba2-4281-b501-7d6a41581af8"
      },
      "execution_count": 5,
      "outputs": [
        {
          "output_type": "stream",
          "name": "stdout",
          "text": [
            "jumping cat\n",
            "jumping dog\n",
            "jumping fish\n",
            "eating cat\n",
            "eating dog\n",
            "eating fish\n",
            "swimming cat\n",
            "swimming dog\n",
            "swimming fish\n"
          ]
        }
      ]
    },
    {
      "cell_type": "code",
      "source": [
        "animals = ['cat','dog', 'fish']\n",
        "animals.append(\"monkey\")\n",
        "print(animals)\n"
      ],
      "metadata": {
        "colab": {
          "base_uri": "https://localhost:8080/"
        },
        "id": "vnBVGFRkN-fu",
        "outputId": "5ab77986-e9fc-409f-ab28-f09ffefba3af"
      },
      "execution_count": 6,
      "outputs": [
        {
          "output_type": "stream",
          "name": "stdout",
          "text": [
            "['cat', 'dog', 'fish', 'monkey']\n"
          ]
        }
      ]
    },
    {
      "cell_type": "code",
      "source": [
        "animals = ['cat', 'dog', 'fish']\n",
        "animals.insert(0,'bird')\n",
        "print(animals)\n"
      ],
      "metadata": {
        "colab": {
          "base_uri": "https://localhost:8080/"
        },
        "id": "UAutKTwUOGGR",
        "outputId": "0bf49054-2b03-4eaf-dc1d-fd832f79f5c6"
      },
      "execution_count": 7,
      "outputs": [
        {
          "output_type": "stream",
          "name": "stdout",
          "text": [
            "['bird', 'cat', 'dog', 'fish']\n"
          ]
        }
      ]
    },
    {
      "cell_type": "code",
      "source": [
        "animals.pop(1)\n",
        "print(animals)\n"
      ],
      "metadata": {
        "colab": {
          "base_uri": "https://localhost:8080/"
        },
        "id": "b0mGI-M_OH_m",
        "outputId": "87a8c2c3-05a4-40e1-8429-dcb6931979ec"
      },
      "execution_count": 8,
      "outputs": [
        {
          "output_type": "stream",
          "name": "stdout",
          "text": [
            "['bird', 'dog', 'fish']\n"
          ]
        }
      ]
    },
    {
      "cell_type": "code",
      "source": [
        "from array import *\n",
        "numbers = array('i', [1,2,3,4,5])\n",
        "numbers.typecode\n"
      ],
      "metadata": {
        "colab": {
          "base_uri": "https://localhost:8080/",
          "height": 35
        },
        "id": "Zze7aPEtOK67",
        "outputId": "0bfa13eb-c8d4-480a-de34-86bc91f7496b"
      },
      "execution_count": 9,
      "outputs": [
        {
          "output_type": "execute_result",
          "data": {
            "text/plain": [
              "'i'"
            ],
            "application/vnd.google.colaboratory.intrinsic+json": {
              "type": "string"
            }
          },
          "metadata": {},
          "execution_count": 9
        }
      ]
    },
    {
      "cell_type": "code",
      "source": [
        "numbers = array('i', [1,2,3,4,5,8,8,9,2,5,3])\n",
        "numbers.count(3)\n",
        "numbers.reverse()\n",
        "print(numbers)\n"
      ],
      "metadata": {
        "colab": {
          "base_uri": "https://localhost:8080/"
        },
        "id": "oqB6iuPVOOAJ",
        "outputId": "6d89ba3a-61ee-488d-af8f-b54e92209224"
      },
      "execution_count": 10,
      "outputs": [
        {
          "output_type": "stream",
          "name": "stdout",
          "text": [
            "array('i', [3, 5, 2, 9, 8, 8, 5, 4, 3, 2, 1])\n"
          ]
        }
      ]
    }
  ]
}