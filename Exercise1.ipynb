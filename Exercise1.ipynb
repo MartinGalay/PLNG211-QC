{
  "nbformat": 4,
  "nbformat_minor": 0,
  "metadata": {
    "colab": {
      "provenance": [],
      "authorship_tag": "ABX9TyMDMgRS76mmYD6YVt+idF/O",
      "include_colab_link": true
    },
    "kernelspec": {
      "name": "python3",
      "display_name": "Python 3"
    },
    "language_info": {
      "name": "python"
    }
  },
  "cells": [
    {
      "cell_type": "markdown",
      "metadata": {
        "id": "view-in-github",
        "colab_type": "text"
      },
      "source": [
        "<a href=\"https://colab.research.google.com/github/MartinGalay/PLNG211-QC/blob/main/Exercise1.ipynb\" target=\"_parent\"><img src=\"https://colab.research.google.com/assets/colab-badge.svg\" alt=\"Open In Colab\"/></a>"
      ]
    },
    {
      "cell_type": "code",
      "execution_count": 6,
      "metadata": {
        "colab": {
          "base_uri": "https://localhost:8080/"
        },
        "id": "mLTneSoKnAH4",
        "outputId": "91e7fbbf-d176-46df-8351-eba5e645bc5e"
      },
      "outputs": [
        {
          "output_type": "stream",
          "name": "stdout",
          "text": [
            "186\n"
          ]
        }
      ],
      "source": [
        "n = [26,49,98,87,62,75]\n",
        "total = 0\n",
        "for i in n:\n",
        "  if not i % 2:\n",
        "    total += i\n",
        "\n",
        "print(total)\n"
      ]
    }
  ]
}